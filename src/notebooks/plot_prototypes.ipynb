{
 "cells": [
  {
   "cell_type": "markdown",
   "metadata": {},
   "source": [
    "# Score sheet"
   ]
  },
  {
   "cell_type": "code",
   "execution_count": null,
   "metadata": {},
   "outputs": [],
   "source": [
    "import os\n",
    "import pickle\n",
    "from os.path import join as pj\n",
    "\n",
    "import cv2\n",
    "import matplotlib.pyplot as plt\n",
    "import numpy as np\n",
    "import pyrootutils\n",
    "import torch\n",
    "from torchvision import transforms\n",
    "from matplotlib.patches import Rectangle\n",
    "import seaborn as sns\n",
    "pyrootutils.setup_root(os.getcwd(), indicator=\".project-root\", pythonpath=True)\n",
    "\n",
    "from src.shared_utils.utils_visualisation import plot_prototypes, show_cam_on_image"
   ]
  },
  {
   "cell_type": "code",
   "execution_count": null,
   "metadata": {},
   "outputs": [],
   "source": [
    "path_sim = \"\"\n",
    "proto_per_figure = 4\n",
    "pkl_path = pj(path_sim, \"results_test.pkl\")\n",
    "with open(pkl_path, 'rb') as f:\n",
    "    dict_results = pickle.load(f)"
   ]
  },
  {
   "cell_type": "code",
   "execution_count": null,
   "metadata": {},
   "outputs": [],
   "source": [
    "mean_normalize = torch.tensor([0.485, 0.456, 0.406])\n",
    "std_normalize = torch.tensor([0.229, 0.224, 0.225])\n",
    "\n",
    "unnormalize = transforms.Normalize(\n",
    "        (-mean_normalize / std_normalize), (1.0 / std_normalize)\n",
    "    )"
   ]
  },
  {
   "cell_type": "code",
   "execution_count": null,
   "metadata": {},
   "outputs": [],
   "source": [
    "labels = dict_results[\"labels\"]\n",
    "\n",
    "np_image = dict_results[\"sample\"]\n",
    "np_similarity = dict_results[\"similarity_prototype\"]\n",
    "pruned_importance = dict_results[\"importance\"].copy()\n",
    "pruned_importance[pruned_importance<0.1] = 0\n",
    "modified_preds = pruned_importance.sum(axis=1)\n"
   ]
  },
  {
   "cell_type": "code",
   "execution_count": null,
   "metadata": {},
   "outputs": [],
   "source": [
    "class_importance = pruned_importance[np.arange(pruned_importance.shape[0]), :, labels]"
   ]
  },
  {
   "cell_type": "code",
   "execution_count": null,
   "metadata": {},
   "outputs": [],
   "source": [
    "idx_figures = np.random.choice(len(labels), 2, replace=False)\n"
   ]
  },
  {
   "cell_type": "code",
   "execution_count": null,
   "metadata": {},
   "outputs": [],
   "source": [
    "importance_all = class_importance[idx_figures]\n",
    "top_proto_idx = np.argsort(importance_all, axis=1)[:, -proto_per_figure:]\n",
    "all_proto = np.unique(top_proto_idx)"
   ]
  },
  {
   "cell_type": "code",
   "execution_count": null,
   "metadata": {},
   "outputs": [],
   "source": [
    "colorblind_palette = sns.color_palette(\"colorblind\", len(all_proto))\n",
    "\n",
    "dict_proto_color = {all_proto[i]: colorblind_palette[i] for i in range(len(all_proto))}"
   ]
  },
  {
   "cell_type": "code",
   "execution_count": null,
   "metadata": {},
   "outputs": [],
   "source": [
    "print(\"idx_figures\", idx_figures)"
   ]
  },
  {
   "cell_type": "code",
   "execution_count": null,
   "metadata": {},
   "outputs": [],
   "source": [
    "scale_factor =4\n",
    "width = scale_factor*(proto_per_figure+1)\n",
    "height = scale_factor*len(idx_figures)*1.1\n",
    "fig, axs = plt.subplots(ncols=proto_per_figure + 1, nrows=len(idx_figures), figsize=(width, height))\n",
    "\n",
    "for idx_plot,idx_figure in enumerate(idx_figures):\n",
    "    importance_plotted = 0\n",
    "    image = np_image[idx_figure]\n",
    "    image = unnormalize(torch.tensor(image)).numpy()\n",
    "    label_tmp = labels[idx_figure]\n",
    "    pred_tmp = np.argmax(modified_preds[idx_figure])\n",
    "    importance_image = pruned_importance[idx_figure,:,label_tmp]\n",
    "    top_proto_idx_image = np.argsort(importance_image)[-proto_per_figure:]\n",
    "    top_proto_idx_image = top_proto_idx_image[::-1]\n",
    "    similarity = np_similarity[idx_figure]\n",
    "    similarity = similarity[top_proto_idx_image]\n",
    "    nb_proto = min((importance_image>0).sum(),similarity.shape[0])\n",
    "    similarity = similarity[:nb_proto]\n",
    "    img_size = image.shape[1:]\n",
    "    size_square_similarity = int(similarity.shape[1]**0.5)\n",
    "    color_annotations = [dict_proto_color[top_proto_idx_image[i]] for i in range(proto_per_figure)]\n",
    "    plot_prototypes(image, similarity,axs=axs[idx_plot,0], alpha=0.2, label=label_tmp,pred = pred_tmp,color_annotations=color_annotations)\n",
    "\n",
    "    axs[idx_plot,0].title.set_fontsize(18)\n",
    "    for idx in range(proto_per_figure):\n",
    "        if idx>=nb_proto:\n",
    "            axs[idx_plot,idx + 1].axis(\"off\")\n",
    "            continue\n",
    "        idx_proto = top_proto_idx_image[idx]\n",
    "\n",
    "        similarity_proto = similarity[idx]\n",
    "        similiarity_tmp = similarity_proto.reshape(\n",
    "            size_square_similarity, size_square_similarity\n",
    "        )\n",
    "        similarity_scaled = torch.nn.functional.interpolate(\n",
    "            torch.tensor(similiarity_tmp[None, None, :, :]),\n",
    "            size=img_size,\n",
    "            scale_factor=None,\n",
    "            mode=\"bilinear\",\n",
    "        )\n",
    "\n",
    "        similarity_plot = show_cam_on_image(\n",
    "            np.transpose(image,(1,2,0)),\n",
    "            similarity_scaled[0, 0].detach().cpu().numpy(),\n",
    "        )\n",
    "        axs[idx_plot,idx + 1].imshow(similarity_plot,interpolation='nearest')\n",
    "        axs[idx_plot,idx + 1].title.set_text(f\"Importance: {importance_image[idx_proto]:.2f},Proto: {idx_proto}\",\n",
    "        )\n",
    "        importance_plotted += importance_image[idx_proto]\n",
    "        axs[idx_plot,idx + 1].title.set_fontsize(18)\n",
    "        # axs[idx_plot,idx + 1].title.set_fontsize(30)\n",
    "        # make tight layout\n",
    "        axs[idx_plot,idx + 1].axis(\"off\")\n",
    "        border = Rectangle(\n",
    "            (0, 0),\n",
    "            image.shape[1],\n",
    "            image.shape[0],\n",
    "            linewidth=4,\n",
    "            edgecolor=color_annotations[idx],\n",
    "            facecolor=\"none\",\n",
    "        )\n",
    "        axs[idx_plot,idx + 1].add_patch(border)\n",
    "    axs[idx_plot,0].title.set_text(f\"Total score: {importance_image.sum():.2f} ({(importance_plotted/importance_image.sum())*100:.2f}%)\")\n",
    "                                    # predicted: {pred_tmp}\")\n",
    "            # Add the border to the image\n",
    "\n",
    "plt.tight_layout()"
   ]
  },
  {
   "cell_type": "code",
   "execution_count": null,
   "metadata": {},
   "outputs": [],
   "source": [
    "np_similarity[idx_figures[5],283].max()"
   ]
  }
 ],
 "metadata": {
  "kernelspec": {
   "display_name": ".venv",
   "language": "python",
   "name": "python3"
  },
  "language_info": {
   "codemirror_mode": {
    "name": "ipython",
    "version": 3
   },
   "file_extension": ".py",
   "mimetype": "text/x-python",
   "name": "python",
   "nbconvert_exporter": "python",
   "pygments_lexer": "ipython3",
   "version": "3.12.2"
  }
 },
 "nbformat": 4,
 "nbformat_minor": 2
}
