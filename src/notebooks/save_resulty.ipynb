{
 "cells": [
  {
   "cell_type": "markdown",
   "metadata": {},
   "source": [
    "## Evaluate model's performance\n",
    "This notebook is used to extract model performance in term of accuracy as well as local and global size of the explanations."
   ]
  },
  {
   "cell_type": "code",
   "execution_count": 1,
   "metadata": {},
   "outputs": [],
   "source": [
    "import os\n",
    "import pandas as pd\n",
    "import pyrootutils\n",
    "from pathlib import Path\n",
    "from tqdm import tqdm\n",
    "pyrootutils.setup_root(os.getcwd(), indicator=\".project-root\", pythonpath=True)\n",
    "\n",
    "from src.shared_utils.utils_experiments import save_results, compute_model_stats"
   ]
  },
  {
   "cell_type": "code",
   "execution_count": null,
   "metadata": {},
   "outputs": [],
   "source": [
    "path_experiment = #path to folder with different experiment\n",
    "for experiment in path_experiment:\n",
    "    print(experiment)\n",
    "    if len(list(Path(experiment).glob(\"*.pkl\"))) ==0:\n",
    "        save_results(experiment, set=\"test\")"
   ]
  },
  {
   "cell_type": "code",
   "execution_count": null,
   "metadata": {},
   "outputs": [],
   "source": [
    "experiment_name = [x.name for x in path_experiment]\n",
    "df_results = pd.DataFrame(index = experiment_name,columns =[\"accuracy\", \"local_size\", \"global_size\"] )\n",
    "for experiment in tqdm(path_experiment):\n",
    "    print(experiment)\n",
    "    accuracy, local_size, global_size =compute_model_stats(experiment, threshold =0.1)\n",
    "    df_results.loc[experiment.name] = [accuracy, local_size, global_size]\n",
    "df_results.to_csv(Path(root_dir) /\"results.csv\")\n"
   ]
  }
 ],
 "metadata": {
  "kernelspec": {
   "display_name": ".venv",
   "language": "python",
   "name": "python3"
  },
  "language_info": {
   "codemirror_mode": {
    "name": "ipython",
    "version": 3
   },
   "file_extension": ".py",
   "mimetype": "text/x-python",
   "name": "python",
   "nbconvert_exporter": "python",
   "pygments_lexer": "ipython3",
   "version": "3.12.2"
  }
 },
 "nbformat": 4,
 "nbformat_minor": 2
}
