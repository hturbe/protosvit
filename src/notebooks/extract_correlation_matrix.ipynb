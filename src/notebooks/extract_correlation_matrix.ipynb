{
 "cells": [
  {
   "cell_type": "markdown",
   "metadata": {},
   "source": [
    "## Plot correlation across classes from the classification head\n",
    "This notebook plots the correlation across the weights of the classification head for models trained on the CUB dataset. The aim is to show how the model reuses the same concepts across similar classes enabling a small global size of the explanations."
   ]
  },
  {
   "cell_type": "code",
   "execution_count": null,
   "metadata": {},
   "outputs": [],
   "source": [
    "import pickle as pkl\n",
    "from pathlib import Path\n",
    "\n",
    "import numpy as np\n",
    "import pyrootutils\n",
    "import torch\n",
    "import pandas as pd\n",
    "import matplotlib.pyplot as plt\n",
    "import seaborn as sns\n",
    "pyrootutils.setup_root(Path.cwd() , indicator=\".project-root\", pythonpath=True)\n",
    "\n",
    "from src.shared_utils.utils_experiments import load_model_dataset"
   ]
  },
  {
   "cell_type": "code",
   "execution_count": null,
   "metadata": {},
   "outputs": [],
   "source": [
    "path_sim = # add the path to the folder where the trained model is stored\n",
    "model, dataset = load_model_dataset(path_sim, \"test\" )"
   ]
  },
  {
   "cell_type": "code",
   "execution_count": null,
   "metadata": {},
   "outputs": [],
   "source": [
    "# First save weight of the classification head separately from the model\n",
    "np.save(Path(path_sim) / \"classification_head_weight.npy\", model.classification_head.weight.detach().cpu().numpy())"
   ]
  },
  {
   "cell_type": "code",
   "execution_count": null,
   "metadata": {},
   "outputs": [],
   "source": [
    "pkl_path = path_sim / \"results_test.pkl\"\n",
    "threshold =0.1\n",
    "with pkl_path.open(\"rb\") as f:\n",
    "    dict_results = pkl.load(f)\n",
    "    labels = dict_results[\"labels\"]\n",
    "importance = dict_results[\"importance\"].copy()\n",
    "if threshold > 0:\n",
    "    importance[importance < threshold] = 0\n",
    "    preds = importance.sum(axis=1).argmax(axis=1)\n",
    "else:\n",
    "    preds = dict_results[\"preds\"]\n",
    "accuracy = (preds == labels).sum() / len(labels)\n",
    "class_importance = importance[np.arange(importance.shape[0]), :, labels]\n",
    "local_size = (class_importance > 0).sum(axis=1).mean()\n",
    "global_size = ((class_importance > 0).sum(axis=0) > 0).sum()"
   ]
  },
  {
   "cell_type": "code",
   "execution_count": null,
   "metadata": {},
   "outputs": [],
   "source": [
    "idx_proto = np.argwhere((class_importance > 0).sum(axis=0)>0).squeeze()\n",
    "classification_weight = np.load(path_sim / \"classification_head_weight.npy\")\n",
    "selected_weight = classification_weight[:,idx_proto]"
   ]
  },
  {
   "cell_type": "code",
   "execution_count": null,
   "metadata": {},
   "outputs": [],
   "source": [
    "name_classes = [x.name for x in Path(path_data).iterdir()]\n",
    "name_classes = sorted(name_classes, key=lambda x: int(x.split(\".\")[0]))"
   ]
  },
  {
   "cell_type": "code",
   "execution_count": null,
   "metadata": {},
   "outputs": [],
   "source": [
    "name_classes\n",
    "# order the list based on the number at the start of the string"
   ]
  },
  {
   "cell_type": "code",
   "execution_count": null,
   "metadata": {},
   "outputs": [],
   "source": [
    "df = pd.DataFrame(selected_weight)\n",
    "corr = np.corrcoef(df)\n",
    "plt.figure(figsize=(20,20))\n",
    "sns.heatmap(corr, annot=False)"
   ]
  },
  {
   "cell_type": "code",
   "execution_count": null,
   "metadata": {},
   "outputs": [],
   "source": [
    "# plot correlation across weight of each row of the matrix\n",
    "import matplotlib.pyplot as plt\n",
    "import seaborn as sns\n",
    "import pandas as pd\n",
    "# start_idx = 55\n",
    "# end_idx = 70\n",
    "start_idx = 112\n",
    "end_idx = 135\n",
    "chosen_idx = np.arange(start_idx, end_idx)\n",
    "chosen_name = np.array(name_classes)[chosen_idx]\n",
    "chosen_name = [x.split(\".\")[1] for x in chosen_name]\n",
    "df = pd.DataFrame(selected_weight)\n",
    "corr = np.corrcoef(df.iloc[start_idx: end_idx,:])\n",
    "plt.figure(figsize=(20,20))\n",
    "sns.heatmap(corr, annot=True);\n",
    "plt.xticks(np.arange(len(chosen_idx)), chosen_name, rotation=45,ha=\"right\");\n",
    "plt.yticks(np.arange(len(chosen_idx)), chosen_name, rotation=45,va=\"top\");"
   ]
  },
  {
   "cell_type": "code",
   "execution_count": null,
   "metadata": {},
   "outputs": [],
   "source": [
    "ordered_proto = np.argsort(np.abs(selected_weight[50]- selected_weight[52]))[::-1]\n",
    "idx_proto[ordered_proto]"
   ]
  }
 ],
 "metadata": {
  "kernelspec": {
   "display_name": ".venv",
   "language": "python",
   "name": "python3"
  },
  "language_info": {
   "codemirror_mode": {
    "name": "ipython",
    "version": 3
   },
   "file_extension": ".py",
   "mimetype": "text/x-python",
   "name": "python",
   "nbconvert_exporter": "python",
   "pygments_lexer": "ipython3",
   "version": "3.12.3"
  }
 },
 "nbformat": 4,
 "nbformat_minor": 2
}
