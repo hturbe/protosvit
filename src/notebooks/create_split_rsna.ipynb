{
 "cells": [
  {
   "cell_type": "code",
   "execution_count": null,
   "metadata": {},
   "outputs": [],
   "source": [
    "import pandas as pd\n",
    "import numpy as np"
   ]
  },
  {
   "cell_type": "code",
   "execution_count": null,
   "metadata": {},
   "outputs": [],
   "source": [
    "data_path = \"/workspaces/intrainpretable/data/rsna-pneumonia-detection-challenge/stage_2_train_labels.csv\""
   ]
  },
  {
   "cell_type": "code",
   "execution_count": null,
   "metadata": {},
   "outputs": [],
   "source": [
    "df_sample = pd.read_csv(data_path)"
   ]
  },
  {
   "cell_type": "code",
   "execution_count": null,
   "metadata": {},
   "outputs": [],
   "source": [
    "patient_id = df_sample.patientId.to_numpy()\n",
    "np.random.shuffle(patient_id)"
   ]
  },
  {
   "cell_type": "code",
   "execution_count": null,
   "metadata": {},
   "outputs": [],
   "source": [
    "dict_split = {\"train\": 0.8, \"test\": 0.2}\n",
    "split = int(len(patient_id) * dict_split[\"train\"])\n",
    "train_patient_id = patient_id[:split]\n",
    "test_patient_id = patient_id[split:]\n",
    "df_split = pd.DataFrame({\"patientId\": train_patient_id, \"split\": \"train\"})\n",
    "df_split = pd.concat([df_split,pd.DataFrame({\"patientId\": test_patient_id, \"split\": \"test\"})])\n",
    "df_split.to_csv(\"/workspaces/intrainpretable/data/rsna-pneumonia-detection-challenge/split.csv\", index=False)\n",
    "df_split.shape"
   ]
  }
 ],
 "metadata": {
  "kernelspec": {
   "display_name": ".venv",
   "language": "python",
   "name": "python3"
  },
  "language_info": {
   "codemirror_mode": {
    "name": "ipython",
    "version": 3
   },
   "file_extension": ".py",
   "mimetype": "text/x-python",
   "name": "python",
   "nbconvert_exporter": "python",
   "pygments_lexer": "ipython3",
   "version": "3.12.3"
  }
 },
 "nbformat": 4,
 "nbformat_minor": 2
}
