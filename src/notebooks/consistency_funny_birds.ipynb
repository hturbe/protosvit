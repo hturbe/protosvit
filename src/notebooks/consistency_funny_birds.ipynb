{
 "cells": [
  {
   "cell_type": "markdown",
   "metadata": {},
   "source": [
    "## Notebook to evaluate consistency and stability measure of the mode"
   ]
  },
  {
   "cell_type": "code",
   "execution_count": null,
   "metadata": {},
   "outputs": [],
   "source": [
    "%load_ext autoreload\n",
    "%autoreload 1"
   ]
  },
  {
   "cell_type": "code",
   "execution_count": null,
   "metadata": {},
   "outputs": [],
   "source": [
    "import os\n",
    "from os.path import join as pj\n",
    "\n",
    "import numpy as np\n",
    "import pyrootutils\n",
    "\n",
    "pyrootutils.setup_root(os.getcwd(), indicator=\".project-root\", pythonpath=True)\n",
    "\n",
    "from src.shared_utils.utils_experiments import  load_model_dataset\n",
    "from torch.utils.data import DataLoader\n",
    "from src.learning.data.FunnybirdsDataset import FunnyBirdsDataset\n",
    "from src.evaluation.interpretability_metrics import attribute_analysis, compute_consistency"
   ]
  },
  {
   "cell_type": "code",
   "execution_count": null,
   "metadata": {},
   "outputs": [],
   "source": [
    "data_path = \"/workspaces/intrainpretable/data/FunnyBirds\"\n",
    "path_sim = #add path to the folder containing model trained on the FunnyBrid dataset\n",
    "model, _ = load_model_dataset(path_sim=path_sim,set=\"test\")"
   ]
  },
  {
   "cell_type": "code",
   "execution_count": null,
   "metadata": {},
   "outputs": [],
   "source": [
    "transforms = None\n",
    "test_dataset = FunnyBirdsDataset(\n",
    "        data_path,\n",
    "        \"test\",\n",
    "        get_part_map=True,\n",
    "        transform=transforms,\n",
    "        eval_funny_birds=True,\n",
    "    )\n",
    "test_loader = DataLoader(test_dataset, batch_size=1, shuffle=False)"
   ]
  },
  {
   "cell_type": "code",
   "execution_count": null,
   "metadata": {},
   "outputs": [],
   "source": [
    "list_all_part, list_all_presence, target_all = attribute_analysis(model,test_dataset, test_loader, add_noise = False)\n",
    "all_proto_part_mask= np.stack(list_all_part)\n",
    "all_part_presence = np.stack(list_all_presence)"
   ]
  },
  {
   "cell_type": "code",
   "execution_count": null,
   "metadata": {},
   "outputs": [],
   "source": [
    "all_proto_part_mask.shape"
   ]
  },
  {
   "cell_type": "code",
   "execution_count": null,
   "metadata": {},
   "outputs": [],
   "source": [
    "all_part_presence.shape"
   ]
  },
  {
   "cell_type": "code",
   "execution_count": null,
   "metadata": {},
   "outputs": [],
   "source": [
    "means_score = compute_consistency(all_proto_part_mask, all_part_presence, target_all, threshold = 0.8)\n",
    "print(\"mean consistency score\",means_score)"
   ]
  },
  {
   "cell_type": "code",
   "execution_count": null,
   "metadata": {},
   "outputs": [],
   "source": [
    "list_all_part_noise, list_all_presence_noise, target_all_noise = attribute_analysis(model,test_dataset, test_loader, add_noise = True)\n",
    "all_proto_part_mask_noise= np.stack(list_all_part_noise)\n",
    "all_part_presence_noise = np.stack(list_all_presence_noise)"
   ]
  },
  {
   "cell_type": "code",
   "execution_count": null,
   "metadata": {},
   "outputs": [],
   "source": [
    "# idx_proto_noise = all_proto_part_mask_noise\n",
    "proto_noise = np.argwhere(all_proto_part_mask_noise.sum(axis=(0,2))>0).squeeze()\n",
    "proto_noise = proto_noise.tolist()\n",
    "print(\"proto_noise\",len(proto_noise))\n",
    "proto_normal = np.argwhere(all_proto_part_mask.sum(axis=(0,2))>0).squeeze()\n",
    "proto_normal = proto_normal.tolist()\n",
    "print(\"proto_normal\",len(proto_normal))\n",
    "union_proto = list(set(proto_noise).union(set(proto_normal)))\n"
   ]
  },
  {
   "cell_type": "code",
   "execution_count": null,
   "metadata": {},
   "outputs": [],
   "source": [
    "stability_score = (all_proto_part_mask_noise[:,union_proto,:] ==all_proto_part_mask[:,union_proto,:]).sum() / np.size(all_proto_part_mask_noise[:,union_proto,:])"
   ]
  },
  {
   "cell_type": "code",
   "execution_count": null,
   "metadata": {},
   "outputs": [],
   "source": [
    "print(\"mean stability score\",stability_score)"
   ]
  }
 ],
 "metadata": {
  "kernelspec": {
   "display_name": ".venv",
   "language": "python",
   "name": "python3"
  },
  "language_info": {
   "codemirror_mode": {
    "name": "ipython",
    "version": 3
   },
   "file_extension": ".py",
   "mimetype": "text/x-python",
   "name": "python",
   "nbconvert_exporter": "python",
   "pygments_lexer": "ipython3",
   "version": "3.12.2"
  }
 },
 "nbformat": 4,
 "nbformat_minor": 2
}
